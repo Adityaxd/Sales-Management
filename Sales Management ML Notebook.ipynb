{
 "cells": [
  {
   "cell_type": "markdown",
   "metadata": {},
   "source": [
    "# 1. Data Preprocessing\n",
    "\n",
    "## 1.1 Taking care of missing data and dropping unneccessary columns and rows"
   ]
  },
  {
   "cell_type": "code",
   "execution_count": 1,
   "metadata": {},
   "outputs": [],
   "source": [
    "import pandas as pd\n",
    "import matplotlib.pyplot as plt\n",
    "import numpy as np\n",
    "import seaborn as sns"
   ]
  },
  {
   "cell_type": "code",
   "execution_count": 2,
   "metadata": {},
   "outputs": [],
   "source": [
    "df = pd.read_csv('1805455.csv')\n",
    "#Loading the data into a pandas dataframe"
   ]
  },
  {
   "cell_type": "code",
   "execution_count": 3,
   "metadata": {},
   "outputs": [
    {
     "name": "stdout",
     "output_type": "stream",
     "text": [
      "(50000, 19)\n",
      "Index(['business_code', 'cust_number', 'name_customer', 'clear_date',\n",
      "       'buisness_year', 'doc_id', 'posting_date', 'document_create_date',\n",
      "       'document_create_date.1', 'due_in_date', 'invoice_currency',\n",
      "       'document type', 'posting_id', 'area_business', 'total_open_amount',\n",
      "       'baseline_create_date', 'cust_payment_terms', 'invoice_id', 'isOpen'],\n",
      "      dtype='object')\n"
     ]
    }
   ],
   "source": [
    "print(df.shape)\n",
    "print(df.columns)"
   ]
  },
  {
   "cell_type": "code",
   "execution_count": 4,
   "metadata": {},
   "outputs": [
    {
     "data": {
      "text/html": [
       "<div>\n",
       "<style scoped>\n",
       "    .dataframe tbody tr th:only-of-type {\n",
       "        vertical-align: middle;\n",
       "    }\n",
       "\n",
       "    .dataframe tbody tr th {\n",
       "        vertical-align: top;\n",
       "    }\n",
       "\n",
       "    .dataframe thead th {\n",
       "        text-align: right;\n",
       "    }\n",
       "</style>\n",
       "<table border=\"1\" class=\"dataframe\">\n",
       "  <thead>\n",
       "    <tr style=\"text-align: right;\">\n",
       "      <th></th>\n",
       "      <th>business_code</th>\n",
       "      <th>cust_number</th>\n",
       "      <th>name_customer</th>\n",
       "      <th>clear_date</th>\n",
       "      <th>buisness_year</th>\n",
       "      <th>doc_id</th>\n",
       "      <th>posting_date</th>\n",
       "      <th>document_create_date</th>\n",
       "      <th>document_create_date.1</th>\n",
       "      <th>due_in_date</th>\n",
       "      <th>invoice_currency</th>\n",
       "      <th>document type</th>\n",
       "      <th>posting_id</th>\n",
       "      <th>area_business</th>\n",
       "      <th>total_open_amount</th>\n",
       "      <th>baseline_create_date</th>\n",
       "      <th>cust_payment_terms</th>\n",
       "      <th>invoice_id</th>\n",
       "      <th>isOpen</th>\n",
       "    </tr>\n",
       "  </thead>\n",
       "  <tbody>\n",
       "    <tr>\n",
       "      <th>0</th>\n",
       "      <td>CA02</td>\n",
       "      <td>0140105686</td>\n",
       "      <td>SYSC co</td>\n",
       "      <td>2020-03-12 00:00:00</td>\n",
       "      <td>2020.0</td>\n",
       "      <td>2.960616e+09</td>\n",
       "      <td>2020-02-24</td>\n",
       "      <td>20200224</td>\n",
       "      <td>20200224</td>\n",
       "      <td>20200306.0</td>\n",
       "      <td>CAD</td>\n",
       "      <td>RV</td>\n",
       "      <td>1.0</td>\n",
       "      <td>NaN</td>\n",
       "      <td>2647.80</td>\n",
       "      <td>20200225.0</td>\n",
       "      <td>CA10</td>\n",
       "      <td>2.960616e+09</td>\n",
       "      <td>0</td>\n",
       "    </tr>\n",
       "    <tr>\n",
       "      <th>1</th>\n",
       "      <td>U001</td>\n",
       "      <td>0200769623</td>\n",
       "      <td>WAL-MAR foundation</td>\n",
       "      <td>2019-07-12 00:00:00</td>\n",
       "      <td>2019.0</td>\n",
       "      <td>1.929540e+09</td>\n",
       "      <td>2019-06-26</td>\n",
       "      <td>20190625</td>\n",
       "      <td>20190626</td>\n",
       "      <td>20190711.0</td>\n",
       "      <td>USD</td>\n",
       "      <td>RV</td>\n",
       "      <td>1.0</td>\n",
       "      <td>NaN</td>\n",
       "      <td>1347.42</td>\n",
       "      <td>20190626.0</td>\n",
       "      <td>NAH4</td>\n",
       "      <td>1.929540e+09</td>\n",
       "      <td>0</td>\n",
       "    </tr>\n",
       "    <tr>\n",
       "      <th>2</th>\n",
       "      <td>U001</td>\n",
       "      <td>0200148860</td>\n",
       "      <td>DOLLA co</td>\n",
       "      <td>2019-12-10 00:00:00</td>\n",
       "      <td>2019.0</td>\n",
       "      <td>1.930188e+09</td>\n",
       "      <td>2019-11-24</td>\n",
       "      <td>20191123</td>\n",
       "      <td>20191124</td>\n",
       "      <td>20191209.0</td>\n",
       "      <td>USD</td>\n",
       "      <td>RV</td>\n",
       "      <td>1.0</td>\n",
       "      <td>NaN</td>\n",
       "      <td>67238.76</td>\n",
       "      <td>20191124.0</td>\n",
       "      <td>NAA8</td>\n",
       "      <td>1.930188e+09</td>\n",
       "      <td>0</td>\n",
       "    </tr>\n",
       "    <tr>\n",
       "      <th>3</th>\n",
       "      <td>U001</td>\n",
       "      <td>0200416837</td>\n",
       "      <td>DEC foundation</td>\n",
       "      <td>2019-12-10 00:00:00</td>\n",
       "      <td>2019.0</td>\n",
       "      <td>1.930227e+09</td>\n",
       "      <td>2019-12-06</td>\n",
       "      <td>20191206</td>\n",
       "      <td>20191206</td>\n",
       "      <td>20191211.0</td>\n",
       "      <td>USD</td>\n",
       "      <td>RV</td>\n",
       "      <td>1.0</td>\n",
       "      <td>NaN</td>\n",
       "      <td>12922.90</td>\n",
       "      <td>20191201.0</td>\n",
       "      <td>NAM2</td>\n",
       "      <td>1.930227e+09</td>\n",
       "      <td>0</td>\n",
       "    </tr>\n",
       "    <tr>\n",
       "      <th>4</th>\n",
       "      <td>U001</td>\n",
       "      <td>0200769623</td>\n",
       "      <td>WAL-MAR in</td>\n",
       "      <td>2019-06-26 00:00:00</td>\n",
       "      <td>2019.0</td>\n",
       "      <td>1.929490e+09</td>\n",
       "      <td>2019-06-14</td>\n",
       "      <td>20190614</td>\n",
       "      <td>20190614</td>\n",
       "      <td>20190629.0</td>\n",
       "      <td>USD</td>\n",
       "      <td>RV</td>\n",
       "      <td>1.0</td>\n",
       "      <td>NaN</td>\n",
       "      <td>1898.20</td>\n",
       "      <td>20190614.0</td>\n",
       "      <td>NAH4</td>\n",
       "      <td>1.929490e+09</td>\n",
       "      <td>0</td>\n",
       "    </tr>\n",
       "  </tbody>\n",
       "</table>\n",
       "</div>"
      ],
      "text/plain": [
       "  business_code cust_number       name_customer           clear_date  \\\n",
       "0          CA02  0140105686             SYSC co  2020-03-12 00:00:00   \n",
       "1          U001  0200769623  WAL-MAR foundation  2019-07-12 00:00:00   \n",
       "2          U001  0200148860            DOLLA co  2019-12-10 00:00:00   \n",
       "3          U001  0200416837      DEC foundation  2019-12-10 00:00:00   \n",
       "4          U001  0200769623          WAL-MAR in  2019-06-26 00:00:00   \n",
       "\n",
       "   buisness_year        doc_id posting_date  document_create_date  \\\n",
       "0         2020.0  2.960616e+09   2020-02-24              20200224   \n",
       "1         2019.0  1.929540e+09   2019-06-26              20190625   \n",
       "2         2019.0  1.930188e+09   2019-11-24              20191123   \n",
       "3         2019.0  1.930227e+09   2019-12-06              20191206   \n",
       "4         2019.0  1.929490e+09   2019-06-14              20190614   \n",
       "\n",
       "   document_create_date.1  due_in_date invoice_currency document type  \\\n",
       "0                20200224   20200306.0              CAD            RV   \n",
       "1                20190626   20190711.0              USD            RV   \n",
       "2                20191124   20191209.0              USD            RV   \n",
       "3                20191206   20191211.0              USD            RV   \n",
       "4                20190614   20190629.0              USD            RV   \n",
       "\n",
       "   posting_id  area_business  total_open_amount  baseline_create_date  \\\n",
       "0         1.0            NaN            2647.80            20200225.0   \n",
       "1         1.0            NaN            1347.42            20190626.0   \n",
       "2         1.0            NaN           67238.76            20191124.0   \n",
       "3         1.0            NaN           12922.90            20191201.0   \n",
       "4         1.0            NaN            1898.20            20190614.0   \n",
       "\n",
       "  cust_payment_terms    invoice_id  isOpen  \n",
       "0               CA10  2.960616e+09       0  \n",
       "1               NAH4  1.929540e+09       0  \n",
       "2               NAA8  1.930188e+09       0  \n",
       "3               NAM2  1.930227e+09       0  \n",
       "4               NAH4  1.929490e+09       0  "
      ]
     },
     "execution_count": 4,
     "metadata": {},
     "output_type": "execute_result"
    }
   ],
   "source": [
    "df.head()"
   ]
  },
  {
   "cell_type": "code",
   "execution_count": 5,
   "metadata": {},
   "outputs": [
    {
     "data": {
      "text/plain": [
       "business_code                 0\n",
       "cust_number                   0\n",
       "name_customer                 0\n",
       "clear_date                 4176\n",
       "buisness_year                 0\n",
       "doc_id                        0\n",
       "posting_date                  0\n",
       "document_create_date          0\n",
       "document_create_date.1        0\n",
       "due_in_date                   0\n",
       "invoice_currency              0\n",
       "document type                 0\n",
       "posting_id                    0\n",
       "area_business             50000\n",
       "total_open_amount             0\n",
       "baseline_create_date          0\n",
       "cust_payment_terms            0\n",
       "invoice_id                    6\n",
       "isOpen                        0\n",
       "dtype: int64"
      ]
     },
     "execution_count": 5,
     "metadata": {},
     "output_type": "execute_result"
    }
   ],
   "source": [
    "df.isna().sum()"
   ]
  },
  {
   "cell_type": "code",
   "execution_count": 6,
   "metadata": {
    "scrolled": true
   },
   "outputs": [],
   "source": [
    "df.sort_values(by = 'document_create_date.1', inplace = True)\n",
    "df.reset_index(inplace = True, drop = True)"
   ]
  },
  {
   "cell_type": "code",
   "execution_count": 7,
   "metadata": {},
   "outputs": [
    {
     "name": "stdout",
     "output_type": "stream",
     "text": [
      "(4176, 19)\n",
      "(45824, 19)\n"
     ]
    }
   ],
   "source": [
    "unknown_data = df[df.clear_date.isnull()]\n",
    "df = df[df.clear_date.notnull()]\n",
    "print(unknown_data.shape)\n",
    "print(df.shape)"
   ]
  },
  {
   "cell_type": "code",
   "execution_count": 8,
   "metadata": {},
   "outputs": [],
   "source": [
    "df.drop(['area_business', 'name_customer'], axis = 1, inplace = True)"
   ]
  },
  {
   "cell_type": "markdown",
   "metadata": {},
   "source": [
    "Since all values of area business columns are NANs, we can drop this column.\n",
    "Also, we have a unique customer id for each customer. So we can drop this as well"
   ]
  },
  {
   "cell_type": "code",
   "execution_count": 9,
   "metadata": {},
   "outputs": [],
   "source": [
    "df.drop(df[df.total_open_amount < 0].index, inplace = True)"
   ]
  },
  {
   "cell_type": "code",
   "execution_count": 10,
   "metadata": {},
   "outputs": [
    {
     "name": "stdout",
     "output_type": "stream",
     "text": [
      "(45824,)\n",
      "(45819,)\n",
      "(45824, 17)\n"
     ]
    }
   ],
   "source": [
    "print(df.doc_id.unique().shape)\n",
    "print(df.invoice_id.unique().shape)\n",
    "print(df.shape)"
   ]
  },
  {
   "cell_type": "markdown",
   "metadata": {},
   "source": [
    "Here we observe that there is a unique doc_id for each entry so we can safely discard this column. Invoice id is also supposed to be unique. But, we can see that there are duplicate values here and they should be removed."
   ]
  },
  {
   "cell_type": "code",
   "execution_count": 11,
   "metadata": {},
   "outputs": [],
   "source": [
    "df = df.drop_duplicates(subset = 'invoice_id').reset_index(drop = True)\n",
    "df.drop(['doc_id','invoice_id'], axis = 1, inplace = True)"
   ]
  },
  {
   "cell_type": "code",
   "execution_count": 12,
   "metadata": {},
   "outputs": [
    {
     "name": "stdout",
     "output_type": "stream",
     "text": [
      "RV    45818\n",
      "X2        1\n",
      "Name: document type, dtype: int64\n",
      "[1.]\n",
      "[0]\n"
     ]
    }
   ],
   "source": [
    "print(df['document type'].value_counts())\n",
    "print(df.posting_id.unique()) \n",
    "print(df.isOpen.unique())"
   ]
  },
  {
   "cell_type": "markdown",
   "metadata": {},
   "source": [
    "We can drop the columns 'posting_id' and 'isOpen' because they take only one unique value. There is only one X2 document type and rest are RV. So we need to drop the row with X2 type document and then drop the column 'document_type' altogether"
   ]
  },
  {
   "cell_type": "code",
   "execution_count": 13,
   "metadata": {},
   "outputs": [],
   "source": [
    "df.drop(df[df['document type'] == 'X2'].index, inplace = True)\n",
    "df.drop(['document type', 'posting_id', 'isOpen'], axis = 1, inplace = True)"
   ]
  },
  {
   "cell_type": "code",
   "execution_count": 14,
   "metadata": {},
   "outputs": [
    {
     "data": {
      "text/html": [
       "<div>\n",
       "<style scoped>\n",
       "    .dataframe tbody tr th:only-of-type {\n",
       "        vertical-align: middle;\n",
       "    }\n",
       "\n",
       "    .dataframe tbody tr th {\n",
       "        vertical-align: top;\n",
       "    }\n",
       "\n",
       "    .dataframe thead th {\n",
       "        text-align: right;\n",
       "    }\n",
       "</style>\n",
       "<table border=\"1\" class=\"dataframe\">\n",
       "  <thead>\n",
       "    <tr style=\"text-align: right;\">\n",
       "      <th></th>\n",
       "      <th>business_code</th>\n",
       "      <th>cust_number</th>\n",
       "      <th>clear_date</th>\n",
       "      <th>buisness_year</th>\n",
       "      <th>posting_date</th>\n",
       "      <th>document_create_date</th>\n",
       "      <th>document_create_date.1</th>\n",
       "      <th>due_in_date</th>\n",
       "      <th>invoice_currency</th>\n",
       "      <th>total_open_amount</th>\n",
       "      <th>baseline_create_date</th>\n",
       "      <th>cust_payment_terms</th>\n",
       "    </tr>\n",
       "  </thead>\n",
       "  <tbody>\n",
       "    <tr>\n",
       "      <th>0</th>\n",
       "      <td>U001</td>\n",
       "      <td>0200769623</td>\n",
       "      <td>2019-01-09 00:00:00</td>\n",
       "      <td>2019.0</td>\n",
       "      <td>2018-12-30</td>\n",
       "      <td>20181229</td>\n",
       "      <td>20181230</td>\n",
       "      <td>20190114.0</td>\n",
       "      <td>USD</td>\n",
       "      <td>1078.89</td>\n",
       "      <td>20181230.0</td>\n",
       "      <td>NAH4</td>\n",
       "    </tr>\n",
       "    <tr>\n",
       "      <th>1</th>\n",
       "      <td>U001</td>\n",
       "      <td>0200744019</td>\n",
       "      <td>2019-01-18 00:00:00</td>\n",
       "      <td>2019.0</td>\n",
       "      <td>2018-12-30</td>\n",
       "      <td>20181229</td>\n",
       "      <td>20181230</td>\n",
       "      <td>20190114.0</td>\n",
       "      <td>USD</td>\n",
       "      <td>12839.47</td>\n",
       "      <td>20181230.0</td>\n",
       "      <td>NAA8</td>\n",
       "    </tr>\n",
       "    <tr>\n",
       "      <th>2</th>\n",
       "      <td>U001</td>\n",
       "      <td>0200704045</td>\n",
       "      <td>2019-01-14 00:00:00</td>\n",
       "      <td>2019.0</td>\n",
       "      <td>2018-12-30</td>\n",
       "      <td>20181230</td>\n",
       "      <td>20181230</td>\n",
       "      <td>20190114.0</td>\n",
       "      <td>USD</td>\n",
       "      <td>106471.88</td>\n",
       "      <td>20181230.0</td>\n",
       "      <td>NAA8</td>\n",
       "    </tr>\n",
       "    <tr>\n",
       "      <th>3</th>\n",
       "      <td>U001</td>\n",
       "      <td>0200759878</td>\n",
       "      <td>2019-01-15 00:00:00</td>\n",
       "      <td>2019.0</td>\n",
       "      <td>2018-12-30</td>\n",
       "      <td>20181229</td>\n",
       "      <td>20181230</td>\n",
       "      <td>20190114.0</td>\n",
       "      <td>USD</td>\n",
       "      <td>51464.59</td>\n",
       "      <td>20181230.0</td>\n",
       "      <td>NAH4</td>\n",
       "    </tr>\n",
       "    <tr>\n",
       "      <th>4</th>\n",
       "      <td>U001</td>\n",
       "      <td>0200418007</td>\n",
       "      <td>2019-01-15 00:00:00</td>\n",
       "      <td>2019.0</td>\n",
       "      <td>2018-12-30</td>\n",
       "      <td>20181231</td>\n",
       "      <td>20181230</td>\n",
       "      <td>20190114.0</td>\n",
       "      <td>USD</td>\n",
       "      <td>49711.27</td>\n",
       "      <td>20181230.0</td>\n",
       "      <td>NAA8</td>\n",
       "    </tr>\n",
       "  </tbody>\n",
       "</table>\n",
       "</div>"
      ],
      "text/plain": [
       "  business_code cust_number           clear_date  buisness_year posting_date  \\\n",
       "0          U001  0200769623  2019-01-09 00:00:00         2019.0   2018-12-30   \n",
       "1          U001  0200744019  2019-01-18 00:00:00         2019.0   2018-12-30   \n",
       "2          U001  0200704045  2019-01-14 00:00:00         2019.0   2018-12-30   \n",
       "3          U001  0200759878  2019-01-15 00:00:00         2019.0   2018-12-30   \n",
       "4          U001  0200418007  2019-01-15 00:00:00         2019.0   2018-12-30   \n",
       "\n",
       "   document_create_date  document_create_date.1  due_in_date invoice_currency  \\\n",
       "0              20181229                20181230   20190114.0              USD   \n",
       "1              20181229                20181230   20190114.0              USD   \n",
       "2              20181230                20181230   20190114.0              USD   \n",
       "3              20181229                20181230   20190114.0              USD   \n",
       "4              20181231                20181230   20190114.0              USD   \n",
       "\n",
       "   total_open_amount  baseline_create_date cust_payment_terms  \n",
       "0            1078.89            20181230.0               NAH4  \n",
       "1           12839.47            20181230.0               NAA8  \n",
       "2          106471.88            20181230.0               NAA8  \n",
       "3           51464.59            20181230.0               NAH4  \n",
       "4           49711.27            20181230.0               NAA8  "
      ]
     },
     "execution_count": 14,
     "metadata": {},
     "output_type": "execute_result"
    }
   ],
   "source": [
    "df.head()"
   ]
  },
  {
   "cell_type": "code",
   "execution_count": 15,
   "metadata": {},
   "outputs": [
    {
     "data": {
      "text/html": [
       "<div>\n",
       "<style scoped>\n",
       "    .dataframe tbody tr th:only-of-type {\n",
       "        vertical-align: middle;\n",
       "    }\n",
       "\n",
       "    .dataframe tbody tr th {\n",
       "        vertical-align: top;\n",
       "    }\n",
       "\n",
       "    .dataframe thead th {\n",
       "        text-align: right;\n",
       "    }\n",
       "</style>\n",
       "<table border=\"1\" class=\"dataframe\">\n",
       "  <thead>\n",
       "    <tr style=\"text-align: right;\">\n",
       "      <th></th>\n",
       "      <th>business_code</th>\n",
       "      <th>cust_number</th>\n",
       "      <th>clear_date</th>\n",
       "      <th>buisness_year</th>\n",
       "      <th>posting_date</th>\n",
       "      <th>document_create_date</th>\n",
       "      <th>document_create_date.1</th>\n",
       "      <th>due_in_date</th>\n",
       "      <th>invoice_currency</th>\n",
       "      <th>total_open_amount</th>\n",
       "      <th>baseline_create_date</th>\n",
       "      <th>cust_payment_terms</th>\n",
       "    </tr>\n",
       "  </thead>\n",
       "  <tbody>\n",
       "    <tr>\n",
       "      <th>45814</th>\n",
       "      <td>U001</td>\n",
       "      <td>0200759878</td>\n",
       "      <td>2020-03-19 00:00:00</td>\n",
       "      <td>2020.0</td>\n",
       "      <td>2020-02-27</td>\n",
       "      <td>20200226</td>\n",
       "      <td>20200227</td>\n",
       "      <td>20200313.0</td>\n",
       "      <td>USD</td>\n",
       "      <td>14329.35</td>\n",
       "      <td>20200227.0</td>\n",
       "      <td>NAH4</td>\n",
       "    </tr>\n",
       "    <tr>\n",
       "      <th>45815</th>\n",
       "      <td>U001</td>\n",
       "      <td>0200722444</td>\n",
       "      <td>2020-03-18 00:00:00</td>\n",
       "      <td>2020.0</td>\n",
       "      <td>2020-02-27</td>\n",
       "      <td>20200219</td>\n",
       "      <td>20200227</td>\n",
       "      <td>20200330.0</td>\n",
       "      <td>USD</td>\n",
       "      <td>7465.20</td>\n",
       "      <td>20200227.0</td>\n",
       "      <td>NA32</td>\n",
       "    </tr>\n",
       "    <tr>\n",
       "      <th>45816</th>\n",
       "      <td>U001</td>\n",
       "      <td>0200956366</td>\n",
       "      <td>2020-03-06 00:00:00</td>\n",
       "      <td>2020.0</td>\n",
       "      <td>2020-02-27</td>\n",
       "      <td>20200227</td>\n",
       "      <td>20200227</td>\n",
       "      <td>20200313.0</td>\n",
       "      <td>USD</td>\n",
       "      <td>51919.56</td>\n",
       "      <td>20200227.0</td>\n",
       "      <td>NAA8</td>\n",
       "    </tr>\n",
       "    <tr>\n",
       "      <th>45817</th>\n",
       "      <td>U001</td>\n",
       "      <td>0200759878</td>\n",
       "      <td>2020-03-13 00:00:00</td>\n",
       "      <td>2020.0</td>\n",
       "      <td>2020-02-27</td>\n",
       "      <td>20200226</td>\n",
       "      <td>20200227</td>\n",
       "      <td>20200313.0</td>\n",
       "      <td>USD</td>\n",
       "      <td>64190.53</td>\n",
       "      <td>20200227.0</td>\n",
       "      <td>NAH4</td>\n",
       "    </tr>\n",
       "    <tr>\n",
       "      <th>45818</th>\n",
       "      <td>U001</td>\n",
       "      <td>0200357714</td>\n",
       "      <td>2020-03-13 00:00:00</td>\n",
       "      <td>2020.0</td>\n",
       "      <td>2020-02-27</td>\n",
       "      <td>20200227</td>\n",
       "      <td>20200227</td>\n",
       "      <td>20200313.0</td>\n",
       "      <td>USD</td>\n",
       "      <td>28374.59</td>\n",
       "      <td>20200227.0</td>\n",
       "      <td>NAA8</td>\n",
       "    </tr>\n",
       "  </tbody>\n",
       "</table>\n",
       "</div>"
      ],
      "text/plain": [
       "      business_code cust_number           clear_date  buisness_year  \\\n",
       "45814          U001  0200759878  2020-03-19 00:00:00         2020.0   \n",
       "45815          U001  0200722444  2020-03-18 00:00:00         2020.0   \n",
       "45816          U001  0200956366  2020-03-06 00:00:00         2020.0   \n",
       "45817          U001  0200759878  2020-03-13 00:00:00         2020.0   \n",
       "45818          U001  0200357714  2020-03-13 00:00:00         2020.0   \n",
       "\n",
       "      posting_date  document_create_date  document_create_date.1  due_in_date  \\\n",
       "45814   2020-02-27              20200226                20200227   20200313.0   \n",
       "45815   2020-02-27              20200219                20200227   20200330.0   \n",
       "45816   2020-02-27              20200227                20200227   20200313.0   \n",
       "45817   2020-02-27              20200226                20200227   20200313.0   \n",
       "45818   2020-02-27              20200227                20200227   20200313.0   \n",
       "\n",
       "      invoice_currency  total_open_amount  baseline_create_date  \\\n",
       "45814              USD           14329.35            20200227.0   \n",
       "45815              USD            7465.20            20200227.0   \n",
       "45816              USD           51919.56            20200227.0   \n",
       "45817              USD           64190.53            20200227.0   \n",
       "45818              USD           28374.59            20200227.0   \n",
       "\n",
       "      cust_payment_terms  \n",
       "45814               NAH4  \n",
       "45815               NA32  \n",
       "45816               NAA8  \n",
       "45817               NAH4  \n",
       "45818               NAA8  "
      ]
     },
     "execution_count": 15,
     "metadata": {},
     "output_type": "execute_result"
    }
   ],
   "source": [
    "df.tail()"
   ]
  },
  {
   "cell_type": "markdown",
   "metadata": {},
   "source": [
    "Some of the values of clear date were not given (null). We have to predict these values. So storing that data into another dataframe known as unknown_data. The clear dates of the unknown_data will be predicted at the end when the model is trained.\n",
    "\n",
    "So far I have:\n",
    "1. Loaded the dataset into a pandas dataframe.\n",
    "2. Had a peek at the data.\n",
    "3. Removed the irrelevant columns. Also removed rows with duplicate invoice id values.\n",
    "4. Changed the relevant column into datetime format.\n",
    "5. Removed the rows with missing values of target variable and stored it into a different pandas dataframe (unknown_data)."
   ]
  },
  {
   "cell_type": "markdown",
   "metadata": {},
   "source": [
    "## 1.2 Categorical data"
   ]
  },
  {
   "cell_type": "code",
   "execution_count": 16,
   "metadata": {},
   "outputs": [
    {
     "name": "stdout",
     "output_type": "stream",
     "text": [
      "USD    42141\n",
      "CAD     3677\n",
      "Name: invoice_currency, dtype: int64\n",
      "U001    41393\n",
      "CA02     3677\n",
      "U013      593\n",
      "U002      141\n",
      "U005       12\n",
      "U007        2\n",
      "Name: business_code, dtype: int64\n",
      "NAA8    18435\n",
      "NAH4    12061\n",
      "CA10     3587\n",
      "NAC6     1530\n",
      "NAM4     1241\n",
      "        ...  \n",
      "NAV9        1\n",
      "NACE        1\n",
      "NATU        1\n",
      "NATJ        1\n",
      "NATY        1\n",
      "Name: cust_payment_terms, Length: 74, dtype: int64\n",
      "0200769623    10175\n",
      "0200726979     1715\n",
      "0200762301     1323\n",
      "0200759878     1215\n",
      "0200794332      972\n",
      "              ...  \n",
      "0200851120        1\n",
      "200117492         1\n",
      "200782772         1\n",
      "0200384472        1\n",
      "0100035069        1\n",
      "Name: cust_number, Length: 1411, dtype: int64\n",
      "2019.0    39871\n",
      "2020.0     5947\n",
      "Name: buisness_year, dtype: int64\n"
     ]
    }
   ],
   "source": [
    "print(df.invoice_currency.value_counts())\n",
    "print(df.business_code.value_counts())\n",
    "print(df.cust_payment_terms.value_counts())\n",
    "print(df.cust_number.value_counts())\n",
    "print(df.buisness_year.value_counts())"
   ]
  },
  {
   "cell_type": "markdown",
   "metadata": {},
   "source": [
    "Here we can conclude that:\n",
    "\n",
    "1. Two types of currencies are used. We should convert all CAD amounts to USD and then label encode invoice_currency column.\n",
    "2. We can one hot encode the business_code column.\n",
    "3. We can label encode the cust_payment terms column.\n",
    "4. We can label encode the cust_number column."
   ]
  },
  {
   "cell_type": "code",
   "execution_count": 17,
   "metadata": {},
   "outputs": [],
   "source": [
    "conv_rate_2019 = 0.753598\n",
    "conv_rate_2020 = 0.74652\n",
    "conv_rate_2021 = 0.786105"
   ]
  },
  {
   "cell_type": "code",
   "execution_count": 18,
   "metadata": {},
   "outputs": [],
   "source": [
    "def currency_convertor(data):\n",
    "    for index in data.index:\n",
    "        if(data.loc[index,'invoice_currency'] == 'CAD'):\n",
    "            if(data.loc[index,'buisness_year'] == 2019):\n",
    "                data.loc[index,'total_open_amount'] = data.iloc[index].total_open_amount * conv_rate_2019\n",
    "            if(data.loc[index,'buisness_year'] == 2020):\n",
    "                data.loc[index,'total_open_amount'] = data.iloc[index].total_open_amount * conv_rate_2020\n",
    "            if(data.loc[index,'buisness_year'] == 2021):\n",
    "                data.loc[index,'total_open_amount'] = data.iloc[index].total_open_amount * conv_rate_2021\n",
    "    return data"
   ]
  },
  {
   "cell_type": "code",
   "execution_count": 19,
   "metadata": {},
   "outputs": [],
   "source": [
    "df = currency_convertor(df)"
   ]
  },
  {
   "cell_type": "code",
   "execution_count": 20,
   "metadata": {},
   "outputs": [
    {
     "data": {
      "text/html": [
       "<div>\n",
       "<style scoped>\n",
       "    .dataframe tbody tr th:only-of-type {\n",
       "        vertical-align: middle;\n",
       "    }\n",
       "\n",
       "    .dataframe tbody tr th {\n",
       "        vertical-align: top;\n",
       "    }\n",
       "\n",
       "    .dataframe thead th {\n",
       "        text-align: right;\n",
       "    }\n",
       "</style>\n",
       "<table border=\"1\" class=\"dataframe\">\n",
       "  <thead>\n",
       "    <tr style=\"text-align: right;\">\n",
       "      <th></th>\n",
       "      <th>business_code</th>\n",
       "      <th>cust_number</th>\n",
       "      <th>clear_date</th>\n",
       "      <th>buisness_year</th>\n",
       "      <th>posting_date</th>\n",
       "      <th>document_create_date</th>\n",
       "      <th>document_create_date.1</th>\n",
       "      <th>due_in_date</th>\n",
       "      <th>invoice_currency</th>\n",
       "      <th>total_open_amount</th>\n",
       "      <th>baseline_create_date</th>\n",
       "      <th>cust_payment_terms</th>\n",
       "      <th>cust_payment_terms_1</th>\n",
       "    </tr>\n",
       "  </thead>\n",
       "  <tbody>\n",
       "    <tr>\n",
       "      <th>0</th>\n",
       "      <td>U001</td>\n",
       "      <td>868</td>\n",
       "      <td>2019-01-09 00:00:00</td>\n",
       "      <td>2019.0</td>\n",
       "      <td>2018-12-30</td>\n",
       "      <td>20181229</td>\n",
       "      <td>20181230</td>\n",
       "      <td>20190114.0</td>\n",
       "      <td>1</td>\n",
       "      <td>1078.89</td>\n",
       "      <td>20181230.0</td>\n",
       "      <td>38</td>\n",
       "      <td>NAH4</td>\n",
       "    </tr>\n",
       "    <tr>\n",
       "      <th>1</th>\n",
       "      <td>U001</td>\n",
       "      <td>814</td>\n",
       "      <td>2019-01-18 00:00:00</td>\n",
       "      <td>2019.0</td>\n",
       "      <td>2018-12-30</td>\n",
       "      <td>20181229</td>\n",
       "      <td>20181230</td>\n",
       "      <td>20190114.0</td>\n",
       "      <td>1</td>\n",
       "      <td>12839.47</td>\n",
       "      <td>20181230.0</td>\n",
       "      <td>23</td>\n",
       "      <td>NAA8</td>\n",
       "    </tr>\n",
       "    <tr>\n",
       "      <th>2</th>\n",
       "      <td>U001</td>\n",
       "      <td>714</td>\n",
       "      <td>2019-01-14 00:00:00</td>\n",
       "      <td>2019.0</td>\n",
       "      <td>2018-12-30</td>\n",
       "      <td>20181230</td>\n",
       "      <td>20181230</td>\n",
       "      <td>20190114.0</td>\n",
       "      <td>1</td>\n",
       "      <td>106471.88</td>\n",
       "      <td>20181230.0</td>\n",
       "      <td>23</td>\n",
       "      <td>NAA8</td>\n",
       "    </tr>\n",
       "    <tr>\n",
       "      <th>3</th>\n",
       "      <td>U001</td>\n",
       "      <td>846</td>\n",
       "      <td>2019-01-15 00:00:00</td>\n",
       "      <td>2019.0</td>\n",
       "      <td>2018-12-30</td>\n",
       "      <td>20181229</td>\n",
       "      <td>20181230</td>\n",
       "      <td>20190114.0</td>\n",
       "      <td>1</td>\n",
       "      <td>51464.59</td>\n",
       "      <td>20181230.0</td>\n",
       "      <td>38</td>\n",
       "      <td>NAH4</td>\n",
       "    </tr>\n",
       "    <tr>\n",
       "      <th>4</th>\n",
       "      <td>U001</td>\n",
       "      <td>596</td>\n",
       "      <td>2019-01-15 00:00:00</td>\n",
       "      <td>2019.0</td>\n",
       "      <td>2018-12-30</td>\n",
       "      <td>20181231</td>\n",
       "      <td>20181230</td>\n",
       "      <td>20190114.0</td>\n",
       "      <td>1</td>\n",
       "      <td>49711.27</td>\n",
       "      <td>20181230.0</td>\n",
       "      <td>23</td>\n",
       "      <td>NAA8</td>\n",
       "    </tr>\n",
       "  </tbody>\n",
       "</table>\n",
       "</div>"
      ],
      "text/plain": [
       "  business_code  cust_number           clear_date  buisness_year posting_date  \\\n",
       "0          U001          868  2019-01-09 00:00:00         2019.0   2018-12-30   \n",
       "1          U001          814  2019-01-18 00:00:00         2019.0   2018-12-30   \n",
       "2          U001          714  2019-01-14 00:00:00         2019.0   2018-12-30   \n",
       "3          U001          846  2019-01-15 00:00:00         2019.0   2018-12-30   \n",
       "4          U001          596  2019-01-15 00:00:00         2019.0   2018-12-30   \n",
       "\n",
       "   document_create_date  document_create_date.1  due_in_date  \\\n",
       "0              20181229                20181230   20190114.0   \n",
       "1              20181229                20181230   20190114.0   \n",
       "2              20181230                20181230   20190114.0   \n",
       "3              20181229                20181230   20190114.0   \n",
       "4              20181231                20181230   20190114.0   \n",
       "\n",
       "   invoice_currency  total_open_amount  baseline_create_date  \\\n",
       "0                 1            1078.89            20181230.0   \n",
       "1                 1           12839.47            20181230.0   \n",
       "2                 1          106471.88            20181230.0   \n",
       "3                 1           51464.59            20181230.0   \n",
       "4                 1           49711.27            20181230.0   \n",
       "\n",
       "   cust_payment_terms cust_payment_terms_1  \n",
       "0                  38                 NAH4  \n",
       "1                  23                 NAA8  \n",
       "2                  23                 NAA8  \n",
       "3                  38                 NAH4  \n",
       "4                  23                 NAA8  "
      ]
     },
     "execution_count": 20,
     "metadata": {},
     "output_type": "execute_result"
    }
   ],
   "source": [
    "from sklearn.preprocessing import LabelEncoder\n",
    "\n",
    "le_1 = LabelEncoder()\n",
    "le_2 = LabelEncoder()\n",
    "le_3 = LabelEncoder()\n",
    "\n",
    "df['cust_payment_terms_1'] = df['cust_payment_terms']  # A separate column for EDA. Will be dropped in training\n",
    "\n",
    "df['invoice_currency'] = le_1.fit_transform(df['invoice_currency'])\n",
    "df['cust_payment_terms'] = le_2.fit_transform(df['cust_payment_terms'])\n",
    "df['cust_number'] = le_3.fit_transform(df['cust_number'])\n",
    "\n",
    "df.head()"
   ]
  },
  {
   "cell_type": "code",
   "execution_count": 21,
   "metadata": {},
   "outputs": [],
   "source": [
    "df['business_code_1'] = df['business_code']\n",
    "from sklearn.compose import ColumnTransformer\n",
    "from sklearn.preprocessing import OneHotEncoder\n",
    "ct = ColumnTransformer(transformers=[('encoder',OneHotEncoder(),[0])], remainder= 'passthrough')\n",
    "df = np.array(ct.fit_transform(df))"
   ]
  },
  {
   "cell_type": "code",
   "execution_count": 22,
   "metadata": {
    "scrolled": true
   },
   "outputs": [
    {
     "data": {
      "text/html": [
       "<div>\n",
       "<style scoped>\n",
       "    .dataframe tbody tr th:only-of-type {\n",
       "        vertical-align: middle;\n",
       "    }\n",
       "\n",
       "    .dataframe tbody tr th {\n",
       "        vertical-align: top;\n",
       "    }\n",
       "\n",
       "    .dataframe thead th {\n",
       "        text-align: right;\n",
       "    }\n",
       "</style>\n",
       "<table border=\"1\" class=\"dataframe\">\n",
       "  <thead>\n",
       "    <tr style=\"text-align: right;\">\n",
       "      <th></th>\n",
       "      <th>0</th>\n",
       "      <th>1</th>\n",
       "      <th>2</th>\n",
       "      <th>3</th>\n",
       "      <th>4</th>\n",
       "      <th>5</th>\n",
       "      <th>cust_number</th>\n",
       "      <th>clear_date</th>\n",
       "      <th>buisness_year</th>\n",
       "      <th>posting_date</th>\n",
       "      <th>document_create_date</th>\n",
       "      <th>document_create_date.1</th>\n",
       "      <th>due_in_date</th>\n",
       "      <th>invoice_currency</th>\n",
       "      <th>total_open_amount</th>\n",
       "      <th>baseline_create_date</th>\n",
       "      <th>cust_payment_terms</th>\n",
       "      <th>cust_payment_terms_1</th>\n",
       "      <th>business_code_1</th>\n",
       "    </tr>\n",
       "  </thead>\n",
       "  <tbody>\n",
       "    <tr>\n",
       "      <th>0</th>\n",
       "      <td>0</td>\n",
       "      <td>1</td>\n",
       "      <td>0</td>\n",
       "      <td>0</td>\n",
       "      <td>0</td>\n",
       "      <td>0</td>\n",
       "      <td>868</td>\n",
       "      <td>2019-01-09 00:00:00</td>\n",
       "      <td>2019</td>\n",
       "      <td>2018-12-30</td>\n",
       "      <td>20181229</td>\n",
       "      <td>20181230</td>\n",
       "      <td>2.01901e+07</td>\n",
       "      <td>1</td>\n",
       "      <td>1078.89</td>\n",
       "      <td>2.01812e+07</td>\n",
       "      <td>38</td>\n",
       "      <td>NAH4</td>\n",
       "      <td>U001</td>\n",
       "    </tr>\n",
       "    <tr>\n",
       "      <th>1</th>\n",
       "      <td>0</td>\n",
       "      <td>1</td>\n",
       "      <td>0</td>\n",
       "      <td>0</td>\n",
       "      <td>0</td>\n",
       "      <td>0</td>\n",
       "      <td>814</td>\n",
       "      <td>2019-01-18 00:00:00</td>\n",
       "      <td>2019</td>\n",
       "      <td>2018-12-30</td>\n",
       "      <td>20181229</td>\n",
       "      <td>20181230</td>\n",
       "      <td>2.01901e+07</td>\n",
       "      <td>1</td>\n",
       "      <td>12839.5</td>\n",
       "      <td>2.01812e+07</td>\n",
       "      <td>23</td>\n",
       "      <td>NAA8</td>\n",
       "      <td>U001</td>\n",
       "    </tr>\n",
       "    <tr>\n",
       "      <th>2</th>\n",
       "      <td>0</td>\n",
       "      <td>1</td>\n",
       "      <td>0</td>\n",
       "      <td>0</td>\n",
       "      <td>0</td>\n",
       "      <td>0</td>\n",
       "      <td>714</td>\n",
       "      <td>2019-01-14 00:00:00</td>\n",
       "      <td>2019</td>\n",
       "      <td>2018-12-30</td>\n",
       "      <td>20181230</td>\n",
       "      <td>20181230</td>\n",
       "      <td>2.01901e+07</td>\n",
       "      <td>1</td>\n",
       "      <td>106472</td>\n",
       "      <td>2.01812e+07</td>\n",
       "      <td>23</td>\n",
       "      <td>NAA8</td>\n",
       "      <td>U001</td>\n",
       "    </tr>\n",
       "    <tr>\n",
       "      <th>3</th>\n",
       "      <td>0</td>\n",
       "      <td>1</td>\n",
       "      <td>0</td>\n",
       "      <td>0</td>\n",
       "      <td>0</td>\n",
       "      <td>0</td>\n",
       "      <td>846</td>\n",
       "      <td>2019-01-15 00:00:00</td>\n",
       "      <td>2019</td>\n",
       "      <td>2018-12-30</td>\n",
       "      <td>20181229</td>\n",
       "      <td>20181230</td>\n",
       "      <td>2.01901e+07</td>\n",
       "      <td>1</td>\n",
       "      <td>51464.6</td>\n",
       "      <td>2.01812e+07</td>\n",
       "      <td>38</td>\n",
       "      <td>NAH4</td>\n",
       "      <td>U001</td>\n",
       "    </tr>\n",
       "    <tr>\n",
       "      <th>4</th>\n",
       "      <td>0</td>\n",
       "      <td>1</td>\n",
       "      <td>0</td>\n",
       "      <td>0</td>\n",
       "      <td>0</td>\n",
       "      <td>0</td>\n",
       "      <td>596</td>\n",
       "      <td>2019-01-15 00:00:00</td>\n",
       "      <td>2019</td>\n",
       "      <td>2018-12-30</td>\n",
       "      <td>20181231</td>\n",
       "      <td>20181230</td>\n",
       "      <td>2.01901e+07</td>\n",
       "      <td>1</td>\n",
       "      <td>49711.3</td>\n",
       "      <td>2.01812e+07</td>\n",
       "      <td>23</td>\n",
       "      <td>NAA8</td>\n",
       "      <td>U001</td>\n",
       "    </tr>\n",
       "  </tbody>\n",
       "</table>\n",
       "</div>"
      ],
      "text/plain": [
       "   0  1  2  3  4  5 cust_number           clear_date buisness_year  \\\n",
       "0  0  1  0  0  0  0         868  2019-01-09 00:00:00          2019   \n",
       "1  0  1  0  0  0  0         814  2019-01-18 00:00:00          2019   \n",
       "2  0  1  0  0  0  0         714  2019-01-14 00:00:00          2019   \n",
       "3  0  1  0  0  0  0         846  2019-01-15 00:00:00          2019   \n",
       "4  0  1  0  0  0  0         596  2019-01-15 00:00:00          2019   \n",
       "\n",
       "  posting_date document_create_date document_create_date.1  due_in_date  \\\n",
       "0   2018-12-30             20181229               20181230  2.01901e+07   \n",
       "1   2018-12-30             20181229               20181230  2.01901e+07   \n",
       "2   2018-12-30             20181230               20181230  2.01901e+07   \n",
       "3   2018-12-30             20181229               20181230  2.01901e+07   \n",
       "4   2018-12-30             20181231               20181230  2.01901e+07   \n",
       "\n",
       "  invoice_currency total_open_amount baseline_create_date cust_payment_terms  \\\n",
       "0                1           1078.89          2.01812e+07                 38   \n",
       "1                1           12839.5          2.01812e+07                 23   \n",
       "2                1            106472          2.01812e+07                 23   \n",
       "3                1           51464.6          2.01812e+07                 38   \n",
       "4                1           49711.3          2.01812e+07                 23   \n",
       "\n",
       "  cust_payment_terms_1 business_code_1  \n",
       "0                 NAH4            U001  \n",
       "1                 NAA8            U001  \n",
       "2                 NAA8            U001  \n",
       "3                 NAH4            U001  \n",
       "4                 NAA8            U001  "
      ]
     },
     "execution_count": 22,
     "metadata": {},
     "output_type": "execute_result"
    }
   ],
   "source": [
    "\n",
    "df = pd.DataFrame(df,columns=['0', '1', '2', '3', '4', '5', 'cust_number', 'clear_date',\n",
    "       'buisness_year', 'posting_date', 'document_create_date',\n",
    "       'document_create_date.1', 'due_in_date', 'invoice_currency', 'total_open_amount',\n",
    "       'baseline_create_date', 'cust_payment_terms',\n",
    "       'cust_payment_terms_1','business_code_1'])\n",
    "df.head()"
   ]
  },
  {
   "cell_type": "markdown",
   "metadata": {},
   "source": [
    "## 1.3 Preprocessing of date time columns"
   ]
  },
  {
   "cell_type": "code",
   "execution_count": 23,
   "metadata": {},
   "outputs": [],
   "source": [
    "df['clear_date'] = pd.to_datetime(df['clear_date'])\n",
    "df['posting_date'] = pd.to_datetime(df['posting_date'])\n",
    "df['document_create_date.1'] = pd.to_datetime(df['document_create_date.1'], errors='ignore', format='%Y%m%d')\n",
    "df['due_in_date'] = pd.to_datetime(df['due_in_date'],format='%Y%m%d')\n",
    "df['baseline_create_date'] = pd.to_datetime(df['baseline_create_date'],format = '%Y%m%d')"
   ]
  },
  {
   "cell_type": "code",
   "execution_count": 24,
   "metadata": {},
   "outputs": [],
   "source": [
    "df.drop('document_create_date', axis = 1, inplace = True)"
   ]
  },
  {
   "cell_type": "code",
   "execution_count": 25,
   "metadata": {
    "scrolled": true
   },
   "outputs": [
    {
     "data": {
      "text/html": [
       "<div>\n",
       "<style scoped>\n",
       "    .dataframe tbody tr th:only-of-type {\n",
       "        vertical-align: middle;\n",
       "    }\n",
       "\n",
       "    .dataframe tbody tr th {\n",
       "        vertical-align: top;\n",
       "    }\n",
       "\n",
       "    .dataframe thead th {\n",
       "        text-align: right;\n",
       "    }\n",
       "</style>\n",
       "<table border=\"1\" class=\"dataframe\">\n",
       "  <thead>\n",
       "    <tr style=\"text-align: right;\">\n",
       "      <th></th>\n",
       "      <th>0</th>\n",
       "      <th>1</th>\n",
       "      <th>2</th>\n",
       "      <th>3</th>\n",
       "      <th>4</th>\n",
       "      <th>5</th>\n",
       "      <th>cust_number</th>\n",
       "      <th>clear_date</th>\n",
       "      <th>buisness_year</th>\n",
       "      <th>posting_date</th>\n",
       "      <th>...</th>\n",
       "      <th>due_in_date</th>\n",
       "      <th>invoice_currency</th>\n",
       "      <th>total_open_amount</th>\n",
       "      <th>baseline_create_date</th>\n",
       "      <th>cust_payment_terms</th>\n",
       "      <th>cust_payment_terms_1</th>\n",
       "      <th>business_code_1</th>\n",
       "      <th>delay</th>\n",
       "      <th>month_of_due_date</th>\n",
       "      <th>due_in_days</th>\n",
       "    </tr>\n",
       "  </thead>\n",
       "  <tbody>\n",
       "    <tr>\n",
       "      <th>0</th>\n",
       "      <td>0</td>\n",
       "      <td>1</td>\n",
       "      <td>0</td>\n",
       "      <td>0</td>\n",
       "      <td>0</td>\n",
       "      <td>0</td>\n",
       "      <td>868</td>\n",
       "      <td>10</td>\n",
       "      <td>2019</td>\n",
       "      <td>0</td>\n",
       "      <td>...</td>\n",
       "      <td>2019-01-14</td>\n",
       "      <td>1</td>\n",
       "      <td>1078.89</td>\n",
       "      <td>0</td>\n",
       "      <td>38</td>\n",
       "      <td>NAH4</td>\n",
       "      <td>U001</td>\n",
       "      <td>-5</td>\n",
       "      <td>1</td>\n",
       "      <td>15</td>\n",
       "    </tr>\n",
       "    <tr>\n",
       "      <th>1</th>\n",
       "      <td>0</td>\n",
       "      <td>1</td>\n",
       "      <td>0</td>\n",
       "      <td>0</td>\n",
       "      <td>0</td>\n",
       "      <td>0</td>\n",
       "      <td>814</td>\n",
       "      <td>19</td>\n",
       "      <td>2019</td>\n",
       "      <td>0</td>\n",
       "      <td>...</td>\n",
       "      <td>2019-01-14</td>\n",
       "      <td>1</td>\n",
       "      <td>12839.5</td>\n",
       "      <td>0</td>\n",
       "      <td>23</td>\n",
       "      <td>NAA8</td>\n",
       "      <td>U001</td>\n",
       "      <td>4</td>\n",
       "      <td>1</td>\n",
       "      <td>15</td>\n",
       "    </tr>\n",
       "    <tr>\n",
       "      <th>2</th>\n",
       "      <td>0</td>\n",
       "      <td>1</td>\n",
       "      <td>0</td>\n",
       "      <td>0</td>\n",
       "      <td>0</td>\n",
       "      <td>0</td>\n",
       "      <td>714</td>\n",
       "      <td>15</td>\n",
       "      <td>2019</td>\n",
       "      <td>0</td>\n",
       "      <td>...</td>\n",
       "      <td>2019-01-14</td>\n",
       "      <td>1</td>\n",
       "      <td>106472</td>\n",
       "      <td>0</td>\n",
       "      <td>23</td>\n",
       "      <td>NAA8</td>\n",
       "      <td>U001</td>\n",
       "      <td>0</td>\n",
       "      <td>1</td>\n",
       "      <td>15</td>\n",
       "    </tr>\n",
       "    <tr>\n",
       "      <th>3</th>\n",
       "      <td>0</td>\n",
       "      <td>1</td>\n",
       "      <td>0</td>\n",
       "      <td>0</td>\n",
       "      <td>0</td>\n",
       "      <td>0</td>\n",
       "      <td>846</td>\n",
       "      <td>16</td>\n",
       "      <td>2019</td>\n",
       "      <td>0</td>\n",
       "      <td>...</td>\n",
       "      <td>2019-01-14</td>\n",
       "      <td>1</td>\n",
       "      <td>51464.6</td>\n",
       "      <td>0</td>\n",
       "      <td>38</td>\n",
       "      <td>NAH4</td>\n",
       "      <td>U001</td>\n",
       "      <td>1</td>\n",
       "      <td>1</td>\n",
       "      <td>15</td>\n",
       "    </tr>\n",
       "    <tr>\n",
       "      <th>4</th>\n",
       "      <td>0</td>\n",
       "      <td>1</td>\n",
       "      <td>0</td>\n",
       "      <td>0</td>\n",
       "      <td>0</td>\n",
       "      <td>0</td>\n",
       "      <td>596</td>\n",
       "      <td>16</td>\n",
       "      <td>2019</td>\n",
       "      <td>0</td>\n",
       "      <td>...</td>\n",
       "      <td>2019-01-14</td>\n",
       "      <td>1</td>\n",
       "      <td>49711.3</td>\n",
       "      <td>0</td>\n",
       "      <td>23</td>\n",
       "      <td>NAA8</td>\n",
       "      <td>U001</td>\n",
       "      <td>1</td>\n",
       "      <td>1</td>\n",
       "      <td>15</td>\n",
       "    </tr>\n",
       "  </tbody>\n",
       "</table>\n",
       "<p>5 rows × 21 columns</p>\n",
       "</div>"
      ],
      "text/plain": [
       "   0  1  2  3  4  5 cust_number  clear_date buisness_year  posting_date  ...  \\\n",
       "0  0  1  0  0  0  0         868          10          2019             0  ...   \n",
       "1  0  1  0  0  0  0         814          19          2019             0  ...   \n",
       "2  0  1  0  0  0  0         714          15          2019             0  ...   \n",
       "3  0  1  0  0  0  0         846          16          2019             0  ...   \n",
       "4  0  1  0  0  0  0         596          16          2019             0  ...   \n",
       "\n",
       "  due_in_date invoice_currency total_open_amount baseline_create_date  \\\n",
       "0  2019-01-14                1           1078.89                    0   \n",
       "1  2019-01-14                1           12839.5                    0   \n",
       "2  2019-01-14                1            106472                    0   \n",
       "3  2019-01-14                1           51464.6                    0   \n",
       "4  2019-01-14                1           49711.3                    0   \n",
       "\n",
       "   cust_payment_terms cust_payment_terms_1 business_code_1 delay  \\\n",
       "0                  38                 NAH4            U001    -5   \n",
       "1                  23                 NAA8            U001     4   \n",
       "2                  23                 NAA8            U001     0   \n",
       "3                  38                 NAH4            U001     1   \n",
       "4                  23                 NAA8            U001     1   \n",
       "\n",
       "   month_of_due_date  due_in_days  \n",
       "0                  1           15  \n",
       "1                  1           15  \n",
       "2                  1           15  \n",
       "3                  1           15  \n",
       "4                  1           15  \n",
       "\n",
       "[5 rows x 21 columns]"
      ]
     },
     "execution_count": 25,
     "metadata": {},
     "output_type": "execute_result"
    }
   ],
   "source": [
    "document_create_date_1 = df['document_create_date.1']\n",
    "df['delay'] = (df['clear_date'] - df['due_in_date']).dt.days\n",
    "#This will be the dependent variable which the model will predict.\n",
    "df['month_of_due_date'] = df['due_in_date'].dt.month\n",
    "df['clear_date'] = (df['clear_date'] - document_create_date_1).dt.days\n",
    "df['posting_date'] = (df['posting_date'] - document_create_date_1).dt.days\n",
    "df['baseline_create_date'] = (df['baseline_create_date'] - document_create_date_1).dt.days\n",
    "df['due_in_days'] = (df['due_in_date'] - document_create_date_1).dt.days\n",
    "df.head()"
   ]
  },
  {
   "cell_type": "markdown",
   "metadata": {},
   "source": [
    "Now we need to remove the anomalies"
   ]
  },
  {
   "cell_type": "code",
   "execution_count": 26,
   "metadata": {},
   "outputs": [],
   "source": [
    "df.drop(df[df.clear_date < df.baseline_create_date].index, inplace = True)\n",
    "df.drop(df[df.due_in_days <= df.baseline_create_date].index, inplace = True)\n",
    "df.drop(df[df.due_in_days <= 0].index, inplace = True)\n",
    "df.drop(df[df.baseline_create_date < 0].index, inplace = True)\n",
    "df.drop(df[df.clear_date <= 0].index, inplace = True)\n",
    "df.reset_index(inplace = True, drop = True)"
   ]
  },
  {
   "cell_type": "code",
   "execution_count": 27,
   "metadata": {},
   "outputs": [
    {
     "name": "stdout",
     "output_type": "stream",
     "text": [
      "0    43021\n",
      "Name: posting_date, dtype: int64\n"
     ]
    }
   ],
   "source": [
    "print(df['posting_date'].value_counts())"
   ]
  },
  {
   "cell_type": "code",
   "execution_count": 28,
   "metadata": {},
   "outputs": [],
   "source": [
    "df.drop('posting_date', axis = 1,inplace = True)"
   ]
  },
  {
   "cell_type": "code",
   "execution_count": 29,
   "metadata": {
    "scrolled": true
   },
   "outputs": [
    {
     "data": {
      "text/plain": [
       "0                                 object\n",
       "1                                 object\n",
       "2                                 object\n",
       "3                                 object\n",
       "4                                 object\n",
       "5                                 object\n",
       "cust_number                       object\n",
       "clear_date                         int64\n",
       "buisness_year                     object\n",
       "document_create_date.1    datetime64[ns]\n",
       "due_in_date               datetime64[ns]\n",
       "invoice_currency                  object\n",
       "total_open_amount                 object\n",
       "baseline_create_date               int64\n",
       "cust_payment_terms                object\n",
       "cust_payment_terms_1              object\n",
       "business_code_1                   object\n",
       "delay                              int64\n",
       "month_of_due_date                  int64\n",
       "due_in_days                        int64\n",
       "dtype: object"
      ]
     },
     "execution_count": 29,
     "metadata": {},
     "output_type": "execute_result"
    }
   ],
   "source": [
    "df.dtypes"
   ]
  },
  {
   "cell_type": "code",
   "execution_count": 30,
   "metadata": {
    "scrolled": false
   },
   "outputs": [
    {
     "data": {
      "text/plain": [
       "0                                  int32\n",
       "1                                  int32\n",
       "2                                  int32\n",
       "3                                  int32\n",
       "4                                  int32\n",
       "5                                  int32\n",
       "cust_number                        int32\n",
       "clear_date                         int64\n",
       "buisness_year                      int32\n",
       "document_create_date.1    datetime64[ns]\n",
       "due_in_date               datetime64[ns]\n",
       "invoice_currency                   int32\n",
       "total_open_amount                  int32\n",
       "baseline_create_date               int64\n",
       "cust_payment_terms                 int32\n",
       "cust_payment_terms_1              object\n",
       "business_code_1                   object\n",
       "delay                              int64\n",
       "month_of_due_date                  int64\n",
       "due_in_days                        int64\n",
       "dtype: object"
      ]
     },
     "execution_count": 30,
     "metadata": {},
     "output_type": "execute_result"
    }
   ],
   "source": [
    "df['0'] = df['0'].astype(int)\n",
    "df['1'] = df['1'].astype(int)\n",
    "df['2'] = df['2'].astype(int)\n",
    "df['3'] = df['3'].astype(int)\n",
    "df['4'] = df['4'].astype(int)\n",
    "df['5'] = df['5'].astype(int)\n",
    "df['cust_number'] = df['cust_number'].astype(int)\n",
    "df['buisness_year'] = df['buisness_year'].astype(int)\n",
    "df['total_open_amount'] = df['total_open_amount'].astype(int)\n",
    "df['invoice_currency'] = df['invoice_currency'].astype(int)\n",
    "df['cust_payment_terms'] = df['cust_payment_terms'].astype(int)\n",
    "df.dtypes"
   ]
  },
  {
   "cell_type": "markdown",
   "metadata": {},
   "source": [
    "## 1.4 Splitting into train test and val"
   ]
  },
  {
   "cell_type": "code",
   "execution_count": 31,
   "metadata": {},
   "outputs": [
    {
     "data": {
      "text/plain": [
       "(43021, 20)"
      ]
     },
     "execution_count": 31,
     "metadata": {},
     "output_type": "execute_result"
    }
   ],
   "source": [
    "df.shape"
   ]
  },
  {
   "cell_type": "code",
   "execution_count": 32,
   "metadata": {},
   "outputs": [],
   "source": [
    "from sklearn.model_selection import train_test_split\n",
    "training_set, test_set = train_test_split(df, test_size= 0.3, shuffle = False)\n",
    "val, test = train_test_split(test_set, test_size = 0.5, shuffle = False)"
   ]
  },
  {
   "cell_type": "code",
   "execution_count": 33,
   "metadata": {},
   "outputs": [
    {
     "name": "stdout",
     "output_type": "stream",
     "text": [
      "(30114, 20)\n",
      "(6453, 20)\n",
      "(6454, 20)\n"
     ]
    }
   ],
   "source": [
    "print(training_set.shape)\n",
    "print(val.shape)\n",
    "print(test.shape)"
   ]
  },
  {
   "cell_type": "code",
   "execution_count": 34,
   "metadata": {},
   "outputs": [
    {
     "data": {
      "text/plain": [
       "Index(['0', '1', '2', '3', '4', '5', 'cust_number', 'clear_date',\n",
       "       'buisness_year', 'document_create_date.1', 'due_in_date',\n",
       "       'invoice_currency', 'total_open_amount', 'baseline_create_date',\n",
       "       'cust_payment_terms', 'cust_payment_terms_1', 'business_code_1',\n",
       "       'delay', 'month_of_due_date', 'due_in_days'],\n",
       "      dtype='object')"
      ]
     },
     "execution_count": 34,
     "metadata": {},
     "output_type": "execute_result"
    }
   ],
   "source": [
    "training_set.columns"
   ]
  },
  {
   "cell_type": "markdown",
   "metadata": {},
   "source": [
    "# 2 EDA"
   ]
  },
  {
   "cell_type": "code",
   "execution_count": 35,
   "metadata": {
    "scrolled": false
   },
   "outputs": [
    {
     "data": {
      "text/plain": [
       "<matplotlib.axes._subplots.AxesSubplot at 0x1c0032b1760>"
      ]
     },
     "execution_count": 35,
     "metadata": {},
     "output_type": "execute_result"
    },
    {
     "data": {
      "image/png": "[encoded data removed]",
      "text/plain": [
       "<Figure size 720x720 with 2 Axes>"
      ]
     },
     "metadata": {
      "needs_background": "light"
     },
     "output_type": "display_data"
    }
   ],
   "source": [
    "fig,ax = plt.subplots(figsize=(10,10))  \n",
    "sns.heatmap(training_set.corr(),annot=True,cmap=\"YlGnBu\",vmin=-1,vmax=1,linewidths=3,ax=ax)"
   ]
  },
  {
   "cell_type": "code",
   "execution_count": 36,
   "metadata": {
    "scrolled": true
   },
   "outputs": [
    {
     "data": {
      "text/plain": [
       "count    30114.000000\n",
       "mean         0.680913\n",
       "std         10.494053\n",
       "min        -76.000000\n",
       "25%         -2.000000\n",
       "50%          0.000000\n",
       "75%          2.000000\n",
       "max        205.000000\n",
       "Name: delay, dtype: float64"
      ]
     },
     "execution_count": 36,
     "metadata": {},
     "output_type": "execute_result"
    }
   ],
   "source": [
    "training_set['delay'].describe()"
   ]
  },
  {
   "cell_type": "code",
   "execution_count": 37,
   "metadata": {
    "scrolled": true
   },
   "outputs": [
    {
     "data": {
      "image/png": "[encoded data removed]",
      "text/plain": [
       "<Figure size 432x288 with 1 Axes>"
      ]
     },
     "metadata": {
      "needs_background": "light"
     },
     "output_type": "display_data"
    }
   ],
   "source": [
    "training_set['delay'].hist(bins=50)\n",
    "plt.show()"
   ]
  },
  {
   "cell_type": "markdown",
   "metadata": {},
   "source": [
    "It is essential to remove the outliers for the model to learn efficiently"
   ]
  },
  {
   "cell_type": "code",
   "execution_count": 38,
   "metadata": {},
   "outputs": [
    {
     "name": "stderr",
     "output_type": "stream",
     "text": [
      "C:\\Users\\Abhinav\\anaconda3\\lib\\site-packages\\pandas\\core\\frame.py:3990: SettingWithCopyWarning: \n",
      "A value is trying to be set on a copy of a slice from a DataFrame\n",
      "\n",
      "See the caveats in the documentation: https://pandas.pydata.org/pandas-docs/stable/user_guide/indexing.html#returning-a-view-versus-a-copy\n",
      "  return super().drop(\n"
     ]
    }
   ],
   "source": [
    "training_set.drop(training_set[training_set.delay > 100 ].index, inplace = True)\n",
    "training_set.drop(training_set[training_set.delay < -50 ].index, inplace = True)\n",
    "training_set.reset_index(inplace = True, drop = True)"
   ]
  },
  {
   "cell_type": "code",
   "execution_count": 39,
   "metadata": {
    "scrolled": true
   },
   "outputs": [
    {
     "data": {
      "image/png": "[encoded data removed]",
      "text/plain": [
       "<Figure size 432x288 with 1 Axes>"
      ]
     },
     "metadata": {
      "needs_background": "light"
     },
     "output_type": "display_data"
    },
    {
     "data": {
      "image/png": "[encoded data removed]",
      "text/plain": [
       "<Figure size 432x288 with 1 Axes>"
      ]
     },
     "metadata": {
      "needs_background": "light"
     },
     "output_type": "display_data"
    },
    {
     "data": {
      "image/png": "[encoded data removed]",
      "text/plain": [
       "<Figure size 432x288 with 1 Axes>"
      ]
     },
     "metadata": {
      "needs_background": "light"
     },
     "output_type": "display_data"
    },
    {
     "data": {
      "image/png": "[encoded data removed]",
      "text/plain": [
       "<Figure size 432x288 with 1 Axes>"
      ]
     },
     "metadata": {
      "needs_background": "light"
     },
     "output_type": "display_data"
    },
    {
     "data": {
      "image/png": "[encoded data removed]",
      "text/plain": [
       "<Figure size 432x288 with 1 Axes>"
      ]
     },
     "metadata": {
      "needs_background": "light"
     },
     "output_type": "display_data"
    }
   ],
   "source": [
    "training_set.plot(kind = 'scatter',  x= 'total_open_amount', y= 'delay')\n",
    "plt.show()\n",
    "training_set.plot(kind = 'scatter',  x= 'due_in_days', y= 'delay')\n",
    "plt.show()\n",
    "training_set.plot(kind = 'scatter',  x= 'baseline_create_date', y= 'delay')\n",
    "plt.show()\n",
    "training_set.plot(kind = 'scatter',  x= 'cust_payment_terms', y= 'delay')\n",
    "plt.show()\n",
    "training_set.plot(kind = 'scatter',  x= 'month_of_due_date', y= 'delay')\n",
    "plt.show()"
   ]
  },
  {
   "cell_type": "markdown",
   "metadata": {},
   "source": [
    "There is no clear cut effect of due date and baseline create on delay. There are delays in short term invoices as well as long term invoices. Thus, due date and baseline create date are not important features to understand delay. These column will be dropped during training and predicting.\n",
    "Month of due date has some effect on delay and will be used in the model"
   ]
  },
  {
   "cell_type": "code",
   "execution_count": 40,
   "metadata": {},
   "outputs": [
    {
     "data": {
      "image/png": "[encoded data removed]",
      "text/plain": [
       "<Figure size 432x288 with 1 Axes>"
      ]
     },
     "metadata": {
      "needs_background": "light"
     },
     "output_type": "display_data"
    }
   ],
   "source": [
    "training_set['total_open_amount'].hist(bins = 50)\n",
    "plt.show()"
   ]
  },
  {
   "cell_type": "markdown",
   "metadata": {},
   "source": [
    "We can infer that a large number of invoices have a small total open amount. \n",
    "As total open amount increases, number of data points decrease."
   ]
  },
  {
   "cell_type": "code",
   "execution_count": 41,
   "metadata": {
    "scrolled": true
   },
   "outputs": [
    {
     "data": {
      "image/png": "[encoded data removed]",
      "text/plain": [
       "<Figure size 432x288 with 1 Axes>"
      ]
     },
     "metadata": {
      "needs_background": "light"
     },
     "output_type": "display_data"
    },
    {
     "data": {
      "image/png": "[encoded data removed]",
      "text/plain": [
       "<Figure size 432x288 with 1 Axes>"
      ]
     },
     "metadata": {
      "needs_background": "light"
     },
     "output_type": "display_data"
    },
    {
     "data": {
      "image/png": "[encoded data removed]",
      "text/plain": [
       "<Figure size 432x288 with 1 Axes>"
      ]
     },
     "metadata": {
      "needs_background": "light"
     },
     "output_type": "display_data"
    },
    {
     "data": {
      "image/png": "[encoded data removed]",
      "text/plain": [
       "<Figure size 432x288 with 1 Axes>"
      ]
     },
     "metadata": {
      "needs_background": "light"
     },
     "output_type": "display_data"
    }
   ],
   "source": [
    "training_set[training_set['business_code_1'] == 'CA02'].plot(kind = 'scatter', x = 'total_open_amount', y = 'delay')\n",
    "plt.show()\n",
    "training_set[training_set['business_code_1'] == 'U001'].plot(kind = 'scatter', x = 'total_open_amount', y = 'delay')\n",
    "plt.show()\n",
    "training_set[training_set['business_code_1'] == 'U013'].plot(kind = 'scatter', x = 'total_open_amount', y = 'delay')\n",
    "plt.show()\n",
    "training_set[training_set['business_code_1'] == 'U002'].plot(kind = 'scatter', x = 'total_open_amount', y = 'delay')\n",
    "plt.show()"
   ]
  },
  {
   "cell_type": "markdown",
   "metadata": {},
   "source": [
    "1. CA02 business type is cleared around the due date. The delay is mostly +- 25.\n",
    "2. larger amounts in U001 business is cleared around the due date.\n",
    "3. Not much can be said about U013.\n",
    "4. The delay in U002 is also less and the amounts are cleared faster."
   ]
  },
  {
   "cell_type": "code",
   "execution_count": 42,
   "metadata": {
    "scrolled": true
   },
   "outputs": [
    {
     "data": {
      "image/png": "[encoded data removed]",
      "text/plain": [
       "<Figure size 432x288 with 1 Axes>"
      ]
     },
     "metadata": {
      "needs_background": "light"
     },
     "output_type": "display_data"
    },
    {
     "data": {
      "image/png": "[encoded data removed]",
      "text/plain": [
       "<Figure size 432x288 with 1 Axes>"
      ]
     },
     "metadata": {
      "needs_background": "light"
     },
     "output_type": "display_data"
    }
   ],
   "source": [
    "training_set[training_set['invoice_currency'] == 0].plot(kind = 'scatter', x = 'total_open_amount', y = 'delay')\n",
    "plt.show()\n",
    "training_set[training_set['invoice_currency'] == 1].plot(kind = 'scatter', x = 'total_open_amount', y = 'delay')\n",
    "plt.show()"
   ]
  },
  {
   "cell_type": "markdown",
   "metadata": {},
   "source": [
    "The invoice currency plot for CAD is the same as the plot for business type CA02. Hence the effect of currency is incorporated in the business type column. Hence we will drop this column in training the model"
   ]
  },
  {
   "cell_type": "code",
   "execution_count": 43,
   "metadata": {
    "scrolled": true
   },
   "outputs": [
    {
     "data": {
      "text/plain": [
       "0     27931\n",
       "1       819\n",
       "2       303\n",
       "8       257\n",
       "7       174\n",
       "9       144\n",
       "4        77\n",
       "6        68\n",
       "3        67\n",
       "5        65\n",
       "10       60\n",
       "11       15\n",
       "12        9\n",
       "13        2\n",
       "Name: baseline_create_date, dtype: int64"
      ]
     },
     "execution_count": 43,
     "metadata": {},
     "output_type": "execute_result"
    }
   ],
   "source": [
    "training_set.baseline_create_date.value_counts()"
   ]
  },
  {
   "cell_type": "markdown",
   "metadata": {},
   "source": [
    "Generally, baseline create date is on the same day as document create date. Thus the payment window generally opens on the same day on which the document is created."
   ]
  },
  {
   "cell_type": "code",
   "execution_count": 44,
   "metadata": {
    "scrolled": true
   },
   "outputs": [
    {
     "data": {
      "text/plain": [
       "NAA8    12876\n",
       "NAH4     8257\n",
       "CA10     2498\n",
       "NAC6     1094\n",
       "NAAX      752\n",
       "NAD1      607\n",
       "NAU5      586\n",
       "NAG2      554\n",
       "NAGD      542\n",
       "NA32      516\n",
       "NA10      264\n",
       "NAD5      257\n",
       "NAVE      181\n",
       "NAVF      170\n",
       "NAAW      137\n",
       "NAWN      108\n",
       "NAVR       79\n",
       "NAVQ       75\n",
       "NAUZ       53\n",
       "NAWP       52\n",
       "NAWU       37\n",
       "NA38       33\n",
       "NAVM       33\n",
       "NA3B       31\n",
       "NABG       27\n",
       "NACB       27\n",
       "CA30       24\n",
       "NAD4       16\n",
       "C106       14\n",
       "NA84       13\n",
       "NA3F       13\n",
       "NAVL       11\n",
       "NAVD        8\n",
       "BR56        6\n",
       "NAX2        5\n",
       "NA31        5\n",
       "NA9X        5\n",
       "NA8Q        4\n",
       "BR12        3\n",
       "CAX2        3\n",
       "NA25        3\n",
       "NAUI        2\n",
       "NAV2        2\n",
       "NA24        1\n",
       "NAD8        1\n",
       "B052        1\n",
       "NAUX        1\n",
       "NABD        1\n",
       "NAV9        1\n",
       "B112        1\n",
       "MC15        1\n",
       "Name: cust_payment_terms_1, dtype: int64"
      ]
     },
     "execution_count": 44,
     "metadata": {},
     "output_type": "execute_result"
    }
   ],
   "source": [
    "training_set.cust_payment_terms_1.value_counts()"
   ]
  },
  {
   "cell_type": "code",
   "execution_count": 45,
   "metadata": {
    "scrolled": true
   },
   "outputs": [
    {
     "data": {
      "image/png": "[encoded data removed]",
      "text/plain": [
       "<Figure size 432x288 with 1 Axes>"
      ]
     },
     "metadata": {
      "needs_background": "light"
     },
     "output_type": "display_data"
    },
    {
     "data": {
      "image/png": "[encoded data removed]",
      "text/plain": [
       "<Figure size 432x288 with 1 Axes>"
      ]
     },
     "metadata": {
      "needs_background": "light"
     },
     "output_type": "display_data"
    },
    {
     "data": {
      "image/png": "[encoded data removed]",
      "text/plain": [
       "<Figure size 432x288 with 1 Axes>"
      ]
     },
     "metadata": {
      "needs_background": "light"
     },
     "output_type": "display_data"
    }
   ],
   "source": [
    "training_set[training_set['cust_payment_terms_1'] == 'NAA8'].plot(kind = 'scatter', x = 'total_open_amount', y = 'delay')\n",
    "plt.show()\n",
    "training_set[training_set['cust_payment_terms_1'] == 'NAH4'].plot(kind = 'scatter', x = 'total_open_amount', y = 'delay')\n",
    "plt.show()\n",
    "training_set[training_set['cust_payment_terms_1'] == 'CA10'].plot(kind = 'scatter', x = 'total_open_amount', y = 'delay')\n",
    "plt.show()"
   ]
  },
  {
   "cell_type": "markdown",
   "metadata": {},
   "source": [
    "There are many types of cust payment terms which have a very few data points. Hence it is not enough to be a relevant feature in the model. Also if we look at the curves of delay vs amount for the top three most abundant cust payment terms, we find that there is not much difference in the variance, max and min values of delay. Hence we should drop this column as well while training the model and predicting the outputs."
   ]
  },
  {
   "cell_type": "markdown",
   "metadata": {},
   "source": [
    "Hence by EDA we can conclude the important features which we need to train the model.\n",
    "1. Business Code\n",
    "2. Cust Number\n",
    "3. Year\n",
    "4. Total Open Amount"
   ]
  },
  {
   "cell_type": "markdown",
   "metadata": {},
   "source": [
    "# 3. Splitting into dependent and independent variables"
   ]
  },
  {
   "cell_type": "code",
   "execution_count": 46,
   "metadata": {},
   "outputs": [
    {
     "data": {
      "text/plain": [
       "Index(['0', '1', '2', '3', '4', '5', 'cust_number', 'clear_date',\n",
       "       'buisness_year', 'document_create_date.1', 'due_in_date',\n",
       "       'invoice_currency', 'total_open_amount', 'baseline_create_date',\n",
       "       'cust_payment_terms', 'cust_payment_terms_1', 'business_code_1',\n",
       "       'delay', 'month_of_due_date', 'due_in_days'],\n",
       "      dtype='object')"
      ]
     },
     "execution_count": 46,
     "metadata": {},
     "output_type": "execute_result"
    }
   ],
   "source": [
    "training_set.columns"
   ]
  },
  {
   "cell_type": "code",
   "execution_count": 47,
   "metadata": {},
   "outputs": [
    {
     "data": {
      "text/plain": [
       "Index(['0', '1', '2', '3', '4', '5', 'cust_number', 'clear_date',\n",
       "       'buisness_year', 'document_create_date.1', 'due_in_date',\n",
       "       'invoice_currency', 'total_open_amount', 'baseline_create_date',\n",
       "       'cust_payment_terms', 'cust_payment_terms_1', 'business_code_1',\n",
       "       'delay', 'month_of_due_date', 'due_in_days'],\n",
       "      dtype='object')"
      ]
     },
     "execution_count": 47,
     "metadata": {},
     "output_type": "execute_result"
    }
   ],
   "source": [
    "Y_train = training_set.iloc[:,-3].values\n",
    "Y_val = val.iloc[:,-3].values\n",
    "Y_test = test.iloc[:,-3].values\n",
    "training_set.columns"
   ]
  },
  {
   "cell_type": "code",
   "execution_count": 48,
   "metadata": {},
   "outputs": [
    {
     "data": {
      "text/plain": [
       "Index(['0', '1', '2', '3', '4', '5', 'total_open_amount', 'month_of_due_date'], dtype='object')"
      ]
     },
     "execution_count": 48,
     "metadata": {},
     "output_type": "execute_result"
    }
   ],
   "source": [
    "training_set.drop(['cust_number', 'clear_date', 'buisness_year', 'document_create_date.1', 'due_in_date',\n",
    "       'invoice_currency', 'baseline_create_date',\n",
    "       'cust_payment_terms', 'cust_payment_terms_1', 'business_code_1','delay',\n",
    "        'due_in_days'], axis = 1, inplace= True)\n",
    "val.drop(['cust_number', 'clear_date', 'buisness_year', 'document_create_date.1', 'due_in_date',\n",
    "       'invoice_currency', 'baseline_create_date',\n",
    "       'cust_payment_terms', 'cust_payment_terms_1', 'business_code_1', 'delay',\n",
    "        'due_in_days'], axis = 1, inplace= True)\n",
    "test.drop(['cust_number', 'clear_date', 'buisness_year', 'document_create_date.1', 'due_in_date',\n",
    "       'invoice_currency', 'baseline_create_date',\n",
    "       'cust_payment_terms', 'cust_payment_terms_1', 'business_code_1', 'delay',\n",
    "        'due_in_days'], axis = 1, inplace= True)\n",
    "training_set.columns"
   ]
  },
  {
   "cell_type": "markdown",
   "metadata": {},
   "source": [
    "# 4 Feature Scaling (not required for Tree based models)"
   ]
  },
  {
   "cell_type": "code",
   "execution_count": 49,
   "metadata": {},
   "outputs": [],
   "source": [
    "from sklearn.preprocessing import StandardScaler\n",
    "sc_X_train = StandardScaler()\n",
    "sc_Y_train = StandardScaler()\n",
    "X_train_scaled = sc_X_train.fit_transform(training_set)\n",
    "Y_train_scaled = sc_Y_train.fit_transform(Y_train.reshape(-1,1))"
   ]
  },
  {
   "cell_type": "markdown",
   "metadata": {},
   "source": [
    "# 5. Training different models"
   ]
  },
  {
   "cell_type": "code",
   "execution_count": 50,
   "metadata": {},
   "outputs": [],
   "source": [
    "from sklearn.metrics import mean_squared_error"
   ]
  },
  {
   "cell_type": "markdown",
   "metadata": {},
   "source": [
    "## 5.1 Multiple Linear Regression"
   ]
  },
  {
   "cell_type": "code",
   "execution_count": 51,
   "metadata": {},
   "outputs": [
    {
     "data": {
      "text/plain": [
       "LinearRegression()"
      ]
     },
     "execution_count": 51,
     "metadata": {},
     "output_type": "execute_result"
    }
   ],
   "source": [
    "from sklearn.linear_model import LinearRegression\n",
    "regressor_linear = LinearRegression()\n",
    "regressor_linear.fit(X_train_scaled, Y_train_scaled)"
   ]
  },
  {
   "cell_type": "code",
   "execution_count": 52,
   "metadata": {},
   "outputs": [
    {
     "name": "stdout",
     "output_type": "stream",
     "text": [
      "[[-0.19  1.  ]\n",
      " [-0.2   1.  ]\n",
      " [-0.24  1.  ]\n",
      " ...\n",
      " [-0.38  0.  ]\n",
      " [-0.43  3.  ]\n",
      " [-0.35 -4.  ]]\n"
     ]
    }
   ],
   "source": [
    "Y_pred_val_linear = sc_Y_train.inverse_transform(regressor_linear.predict(sc_X_train.transform(val)))\n",
    "np.set_printoptions(precision=2)\n",
    "print(np.concatenate((Y_pred_val_linear.reshape(len(Y_pred_val_linear),1), Y_val.reshape(len(Y_val),1)),1))"
   ]
  },
  {
   "cell_type": "code",
   "execution_count": 53,
   "metadata": {},
   "outputs": [
    {
     "name": "stdout",
     "output_type": "stream",
     "text": [
      "5.320398343100735\n"
     ]
    }
   ],
   "source": [
    "print(np.sqrt(mean_squared_error(Y_val, Y_pred_val_linear))) #RMSE on val set"
   ]
  },
  {
   "cell_type": "code",
   "execution_count": 54,
   "metadata": {},
   "outputs": [
    {
     "name": "stdout",
     "output_type": "stream",
     "text": [
      "9.066075403433189\n"
     ]
    }
   ],
   "source": [
    "Y_pred_test_linear = sc_Y_train.inverse_transform(regressor_linear.predict(sc_X_train.transform(test)))\n",
    "print(np.sqrt(mean_squared_error(Y_test, Y_pred_test_linear))) #RMSE on test set"
   ]
  },
  {
   "cell_type": "code",
   "execution_count": 55,
   "metadata": {},
   "outputs": [
    {
     "data": {
      "text/plain": [
       "9.662769639795728"
      ]
     },
     "execution_count": 55,
     "metadata": {},
     "output_type": "execute_result"
    }
   ],
   "source": [
    "Y_pred_test_linear.max()"
   ]
  },
  {
   "cell_type": "markdown",
   "metadata": {},
   "source": [
    "Greatly overfitting the training set"
   ]
  },
  {
   "cell_type": "markdown",
   "metadata": {},
   "source": [
    "## 5.2 SVR"
   ]
  },
  {
   "cell_type": "code",
   "execution_count": 56,
   "metadata": {},
   "outputs": [
    {
     "data": {
      "text/plain": [
       "SVR()"
      ]
     },
     "execution_count": 56,
     "metadata": {},
     "output_type": "execute_result"
    }
   ],
   "source": [
    "from sklearn.svm import SVR\n",
    "regressor_SVR = SVR(kernel = 'rbf')\n",
    "regressor_SVR.fit(X_train_scaled,Y_train_scaled.ravel())"
   ]
  },
  {
   "cell_type": "code",
   "execution_count": 57,
   "metadata": {},
   "outputs": [],
   "source": [
    "Y_pred_val_SVR = sc_Y_train.inverse_transform(regressor_SVR.predict(sc_X_train.transform(val)))"
   ]
  },
  {
   "cell_type": "code",
   "execution_count": 58,
   "metadata": {},
   "outputs": [
    {
     "name": "stdout",
     "output_type": "stream",
     "text": [
      "5.2657784888500485\n"
     ]
    }
   ],
   "source": [
    "print(np.sqrt(mean_squared_error(Y_val,Y_pred_val_SVR))) #RMSE on val set"
   ]
  },
  {
   "cell_type": "code",
   "execution_count": 59,
   "metadata": {},
   "outputs": [
    {
     "name": "stdout",
     "output_type": "stream",
     "text": [
      "9.04877966383206\n"
     ]
    }
   ],
   "source": [
    "Y_pred_test_SVR = sc_Y_train.inverse_transform(regressor_SVR.predict(sc_X_train.transform(test)))\n",
    "print(np.sqrt(mean_squared_error(Y_test, Y_pred_test_SVR))) #RMSE on test set"
   ]
  },
  {
   "cell_type": "code",
   "execution_count": 60,
   "metadata": {},
   "outputs": [
    {
     "data": {
      "text/plain": [
       "10.102822730552566"
      ]
     },
     "execution_count": 60,
     "metadata": {},
     "output_type": "execute_result"
    }
   ],
   "source": [
    "Y_pred_test_SVR.max()"
   ]
  },
  {
   "cell_type": "markdown",
   "metadata": {},
   "source": [
    "Poor performance on test set. Also the range of predictions is low. Max delay is just 10 days."
   ]
  },
  {
   "cell_type": "markdown",
   "metadata": {},
   "source": [
    "## 5.3 Decision Tree Regression"
   ]
  },
  {
   "cell_type": "code",
   "execution_count": 61,
   "metadata": {},
   "outputs": [
    {
     "data": {
      "text/plain": [
       "DecisionTreeRegressor(random_state=0)"
      ]
     },
     "execution_count": 61,
     "metadata": {},
     "output_type": "execute_result"
    }
   ],
   "source": [
    "from sklearn.tree import DecisionTreeRegressor\n",
    "regressor_dt = DecisionTreeRegressor(random_state = 0)\n",
    "regressor_dt.fit(training_set, Y_train)"
   ]
  },
  {
   "cell_type": "code",
   "execution_count": 62,
   "metadata": {},
   "outputs": [
    {
     "name": "stdout",
     "output_type": "stream",
     "text": [
      "17.451042605757483\n"
     ]
    }
   ],
   "source": [
    "Y_pred_val_dt = regressor_dt.predict(val)\n",
    "print(np.sqrt(mean_squared_error(Y_val, Y_pred_val_dt)))"
   ]
  },
  {
   "cell_type": "markdown",
   "metadata": {},
   "source": [
    "Poor performance"
   ]
  },
  {
   "cell_type": "markdown",
   "metadata": {},
   "source": [
    "## 5.5 Random Forest Regression"
   ]
  },
  {
   "cell_type": "code",
   "execution_count": 63,
   "metadata": {},
   "outputs": [
    {
     "data": {
      "text/plain": [
       "RandomForestRegressor(n_estimators=30, random_state=0)"
      ]
     },
     "execution_count": 63,
     "metadata": {},
     "output_type": "execute_result"
    }
   ],
   "source": [
    "from sklearn.ensemble import RandomForestRegressor\n",
    "regressor_rf = RandomForestRegressor(n_estimators = 30, random_state = 0)\n",
    "regressor_rf.fit(training_set, Y_train)"
   ]
  },
  {
   "cell_type": "code",
   "execution_count": 64,
   "metadata": {},
   "outputs": [
    {
     "name": "stdout",
     "output_type": "stream",
     "text": [
      "12.041050951044634\n"
     ]
    }
   ],
   "source": [
    "Y_pred_val_rf = regressor_rf.predict(val)\n",
    "print(np.sqrt(mean_squared_error(Y_val,Y_pred_val_rf)))"
   ]
  },
  {
   "cell_type": "code",
   "execution_count": 65,
   "metadata": {},
   "outputs": [
    {
     "name": "stdout",
     "output_type": "stream",
     "text": [
      "10.903386093707242\n"
     ]
    }
   ],
   "source": [
    "Y_pred_test_rf = regressor_rf.predict(test)\n",
    "print(np.sqrt(mean_squared_error(Y_test,Y_pred_test_rf)))"
   ]
  },
  {
   "cell_type": "code",
   "execution_count": 66,
   "metadata": {},
   "outputs": [
    {
     "data": {
      "text/plain": [
       "67.26666666666667"
      ]
     },
     "execution_count": 66,
     "metadata": {},
     "output_type": "execute_result"
    }
   ],
   "source": [
    "Y_pred_test_rf.max()"
   ]
  },
  {
   "cell_type": "markdown",
   "metadata": {},
   "source": [
    "I am selecting random forest model to predict the unknown data "
   ]
  },
  {
   "cell_type": "markdown",
   "metadata": {},
   "source": [
    "# 6. Predicting Unknown data"
   ]
  },
  {
   "cell_type": "code",
   "execution_count": 67,
   "metadata": {
    "scrolled": true
   },
   "outputs": [
    {
     "data": {
      "text/plain": [
       "Index(['business_code', 'cust_number', 'name_customer', 'clear_date',\n",
       "       'buisness_year', 'doc_id', 'posting_date', 'document_create_date',\n",
       "       'document_create_date.1', 'due_in_date', 'invoice_currency',\n",
       "       'document type', 'posting_id', 'area_business', 'total_open_amount',\n",
       "       'baseline_create_date', 'cust_payment_terms', 'invoice_id', 'isOpen'],\n",
       "      dtype='object')"
      ]
     },
     "execution_count": 67,
     "metadata": {},
     "output_type": "execute_result"
    }
   ],
   "source": [
    "unknown_data.columns"
   ]
  },
  {
   "cell_type": "code",
   "execution_count": 68,
   "metadata": {},
   "outputs": [],
   "source": [
    "unknown_data_1 = unknown_data.copy()"
   ]
  },
  {
   "cell_type": "code",
   "execution_count": 69,
   "metadata": {},
   "outputs": [],
   "source": [
    "unknown_data_1['cust_payment_terms_1'] = unknown_data_1['cust_payment_terms']\n",
    "unknown_data_1.drop(['name_customer', 'doc_id', 'document type', 'posting_id', 'area_business', 'invoice_id', 'isOpen'],\n",
    "                 axis = 1, inplace = True)"
   ]
  },
  {
   "cell_type": "code",
   "execution_count": 70,
   "metadata": {},
   "outputs": [],
   "source": [
    "unknown_data_1['business_code_1'] = unknown_data_1['business_code']\n",
    "unknown_data_1 = np.array(ct.transform(unknown_data_1))\n",
    "unknown_data_1 = pd.DataFrame(unknown_data_1,columns=['0', '1', '2', '3', '4', '5', 'cust_number', 'clear_date',\n",
    "       'buisness_year', 'posting_date', 'document_create_date',\n",
    "       'document_create_date.1', 'due_in_date', 'invoice_currency', 'total_open_amount',\n",
    "       'baseline_create_date', 'cust_payment_terms',\n",
    "       'cust_payment_terms_1', 'Business_code_1'])"
   ]
  },
  {
   "cell_type": "code",
   "execution_count": 71,
   "metadata": {},
   "outputs": [],
   "source": [
    "unknown_data_1.reset_index(inplace= True, drop= True)\n",
    "unknown_data_1 = currency_convertor(unknown_data_1)"
   ]
  },
  {
   "cell_type": "code",
   "execution_count": 72,
   "metadata": {},
   "outputs": [],
   "source": [
    "unknown_data_1['due_in_date'] = pd.to_datetime(unknown_data_1['due_in_date'],format='%Y%m%d')\n",
    "unknown_data_1['month_of_due_date'] = unknown_data_1['due_in_date'].dt.month"
   ]
  },
  {
   "cell_type": "code",
   "execution_count": 73,
   "metadata": {},
   "outputs": [
    {
     "data": {
      "text/plain": [
       "Index(['0', '1', '2', '3', '4', '5', 'total_open_amount', 'month_of_due_date'], dtype='object')"
      ]
     },
     "execution_count": 73,
     "metadata": {},
     "output_type": "execute_result"
    }
   ],
   "source": [
    "unknown_data_1.drop(['cust_number', 'clear_date', 'buisness_year', 'posting_date', 'document_create_date', \n",
    "                   'document_create_date.1', 'due_in_date', 'invoice_currency', 'baseline_create_date', 'cust_payment_terms',\n",
    "                   'cust_payment_terms_1', 'Business_code_1'], axis = 1, inplace= True)\n",
    "unknown_data_1.columns"
   ]
  },
  {
   "cell_type": "code",
   "execution_count": 74,
   "metadata": {},
   "outputs": [],
   "source": [
    "predictions = regressor_rf.predict(unknown_data_1)\n",
    "predictions = np.round(predictions)"
   ]
  },
  {
   "cell_type": "code",
   "execution_count": 75,
   "metadata": {},
   "outputs": [],
   "source": [
    "unknown_data['due_in_date'] = pd.to_datetime(unknown_data['due_in_date'],format='%Y%m%d')"
   ]
  },
  {
   "cell_type": "code",
   "execution_count": 76,
   "metadata": {},
   "outputs": [],
   "source": [
    "unknown_data.reset_index(inplace = True, drop = True)"
   ]
  },
  {
   "cell_type": "code",
   "execution_count": 77,
   "metadata": {},
   "outputs": [],
   "source": [
    "for index in unknown_data.index:\n",
    "    unknown_data.loc[index, 'clear_date'] = (unknown_data.iloc[index].due_in_date + pd.Timedelta(predictions[index])).date()"
   ]
  },
  {
   "cell_type": "code",
   "execution_count": 78,
   "metadata": {},
   "outputs": [],
   "source": [
    "unknown_data['bucket'] = predictions"
   ]
  },
  {
   "cell_type": "code",
   "execution_count": 79,
   "metadata": {},
   "outputs": [],
   "source": [
    "for index in unknown_data.index:\n",
    "    if unknown_data.loc[index,'bucket'] <= 0:\n",
    "        unknown_data.loc[index, 'bucket'] = 'Cleared before or on due date'\n",
    "    elif unknown_data.loc[index,'bucket'] <=15:\n",
    "        unknown_data.loc[index,'bucket'] = 'Bucket 1'\n",
    "    elif unknown_data.loc[index,'bucket'] <= 30:\n",
    "        unknown_data.loc[index,'bucket'] = 'Bucket 2'\n",
    "    elif unknown_data.loc[index,'bucket'] <= 45:\n",
    "        unknown_data.loc[index,'bucket'] = 'Bucket 3'\n",
    "    elif unknown_data.loc[index,'bucket'] <= 60:\n",
    "        unknown_data.loc[index,'bucket'] = 'Bucket 4'\n",
    "    else:\n",
    "        unknown_data.loc[index,'bucket'] = 'Bucket 5'"
   ]
  },
  {
   "cell_type": "code",
   "execution_count": 80,
   "metadata": {},
   "outputs": [
    {
     "data": {
      "text/plain": [
       "Cleared before or on due date    2487\n",
       "Bucket 1                         1597\n",
       "Bucket 2                           52\n",
       "Bucket 3                           19\n",
       "Bucket 4                           18\n",
       "Bucket 5                            3\n",
       "Name: bucket, dtype: int64"
      ]
     },
     "execution_count": 80,
     "metadata": {},
     "output_type": "execute_result"
    }
   ],
   "source": [
    "unknown_data.bucket.value_counts()"
   ]
  }
 ],
 "metadata": {
  "kernelspec": {
   "display_name": "Python 3",
   "language": "python",
   "name": "python3"
  },
  "language_info": {
   "codemirror_mode": {
    "name": "ipython",
    "version": 3
   },
   "file_extension": ".py",
   "mimetype": "text/x-python",
   "name": "python",
   "nbconvert_exporter": "python",
   "pygments_lexer": "ipython3",
   "version": "3.8.3"
  }
 },
 "nbformat": 4,
 "nbformat_minor": 4
}
